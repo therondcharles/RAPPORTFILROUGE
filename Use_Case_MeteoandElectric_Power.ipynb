{
 "cells": [
  {
   "cell_type": "code",
   "execution_count": 1,
   "metadata": {},
   "outputs": [
    {
     "name": "stderr",
     "output_type": "stream",
     "text": [
      "/home/karine/anaconda3/lib/python3.6/importlib/_bootstrap.py:219: RuntimeWarning: numpy.dtype size changed, may indicate binary incompatibility. Expected 96, got 88\n",
      "  return f(*args, **kwds)\n",
      "/home/karine/anaconda3/lib/python3.6/importlib/_bootstrap.py:219: RuntimeWarning: numpy.dtype size changed, may indicate binary incompatibility. Expected 96, got 88\n",
      "  return f(*args, **kwds)\n"
     ]
    }
   ],
   "source": [
    "import pandas as pd\n",
    "from bokeh.plotting import figure, show\n",
    "from bokeh.transform import linear_cmap\n",
    "from bokeh.util.hex import hexbin\n",
    "from bokeh.plotting import figure\n",
    "from scipy.signal import savgol_filter\n",
    "\n",
    "from bokeh.io import curdoc\n",
    "from bokeh.layouts import row, column\n",
    "from bokeh.models import ColumnDataSource, DataRange1d, Select\n",
    "from bokeh.palettes import Blues4\n",
    "from bokeh.plotting import figure\n",
    "import matplotlib\n",
    "from matplotlib.pyplot import plot as plt"
   ]
  },
  {
   "cell_type": "code",
   "execution_count": 2,
   "metadata": {},
   "outputs": [
    {
     "name": "stderr",
     "output_type": "stream",
     "text": [
      "/home/karine/anaconda3/lib/python3.6/site-packages/IPython/core/interactiveshell.py:2785: DtypeWarning: Columns (0) have mixed types. Specify dtype option on import or set low_memory=False.\n",
      "  interactivity=interactivity, compiler=compiler, result=result)\n"
     ]
    }
   ],
   "source": [
    "#READ Files\n",
    "meteo = pd.read_excel(\"Weather Data 2014-11-30.xlsx\",na_values=['---','+'])\n",
    "power_networkendpoint = pd.read_csv(\"network.csv\")\n",
    "feeders = pd.read_csv(\"feeders.csv\")\n",
    "endpoints = pd.read_csv(\"Customer_Endpoints.csv\")"
   ]
  },
  {
   "cell_type": "code",
   "execution_count": 3,
   "metadata": {},
   "outputs": [],
   "source": [
    "meteo['SolarRad']= pd.to_numeric(meteo['SolarRad'])\n",
    "SolarRad = meteo['SolarRad'][:]\n",
    "meteo['SolarRad'].dropna()\n",
    "SolarRad = meteo['SolarRad'][:len(endpoints['datetime'])*2]\n",
    "\n",
    "rng2 = pd.date_range('2013-10-01 12:00:00', periods=len(SolarRad ), freq='30min')\n",
    "df_ = pd.DataFrame({'Period': rng2, 'Solar_Rad':SolarRad })\n",
    "\n",
    "rng = pd.date_range('2013-10-01 12:00:00', periods=len(endpoints['datetime']), freq='H')\n",
    "\n",
    "df = pd.DataFrame({'Period': pd.to_datetime(endpoints['datetime']), 'Pmax':endpoints['P_IMPORT_MAX'], 'Pmin':endpoints['P_IMPORT_MIN'] })"
   ]
  },
  {
   "cell_type": "code",
   "execution_count": 4,
   "metadata": {},
   "outputs": [
    {
     "data": {
      "text/html": [
       "<div>\n",
       "<style scoped>\n",
       "    .dataframe tbody tr th:only-of-type {\n",
       "        vertical-align: middle;\n",
       "    }\n",
       "\n",
       "    .dataframe tbody tr th {\n",
       "        vertical-align: top;\n",
       "    }\n",
       "\n",
       "    .dataframe thead th {\n",
       "        text-align: right;\n",
       "    }\n",
       "</style>\n",
       "<table border=\"1\" class=\"dataframe\">\n",
       "  <thead>\n",
       "    <tr style=\"text-align: right;\">\n",
       "      <th></th>\n",
       "      <th>Period</th>\n",
       "      <th>Solar_Rad</th>\n",
       "    </tr>\n",
       "  </thead>\n",
       "  <tbody>\n",
       "    <tr>\n",
       "      <th>0</th>\n",
       "      <td>2013-10-01 12:00:00</td>\n",
       "      <td>32.0</td>\n",
       "    </tr>\n",
       "    <tr>\n",
       "      <th>1</th>\n",
       "      <td>2013-10-01 12:30:00</td>\n",
       "      <td>20.0</td>\n",
       "    </tr>\n",
       "    <tr>\n",
       "      <th>2</th>\n",
       "      <td>2013-10-01 13:00:00</td>\n",
       "      <td>22.0</td>\n",
       "    </tr>\n",
       "    <tr>\n",
       "      <th>3</th>\n",
       "      <td>2013-10-01 13:30:00</td>\n",
       "      <td>8.0</td>\n",
       "    </tr>\n",
       "    <tr>\n",
       "      <th>4</th>\n",
       "      <td>2013-10-01 14:00:00</td>\n",
       "      <td>0.0</td>\n",
       "    </tr>\n",
       "  </tbody>\n",
       "</table>\n",
       "</div>"
      ],
      "text/plain": [
       "               Period  Solar_Rad\n",
       "0 2013-10-01 12:00:00       32.0\n",
       "1 2013-10-01 12:30:00       20.0\n",
       "2 2013-10-01 13:00:00       22.0\n",
       "3 2013-10-01 13:30:00        8.0\n",
       "4 2013-10-01 14:00:00        0.0"
      ]
     },
     "execution_count": 4,
     "metadata": {},
     "output_type": "execute_result"
    }
   ],
   "source": [
    "df_.head()"
   ]
  },
  {
   "cell_type": "code",
   "execution_count": 5,
   "metadata": {},
   "outputs": [
    {
     "data": {
      "text/html": [
       "<div>\n",
       "<style scoped>\n",
       "    .dataframe tbody tr th:only-of-type {\n",
       "        vertical-align: middle;\n",
       "    }\n",
       "\n",
       "    .dataframe tbody tr th {\n",
       "        vertical-align: top;\n",
       "    }\n",
       "\n",
       "    .dataframe thead th {\n",
       "        text-align: right;\n",
       "    }\n",
       "</style>\n",
       "<table border=\"1\" class=\"dataframe\">\n",
       "  <thead>\n",
       "    <tr style=\"text-align: right;\">\n",
       "      <th></th>\n",
       "      <th>Period</th>\n",
       "      <th>Pmax</th>\n",
       "      <th>Pmin</th>\n",
       "    </tr>\n",
       "  </thead>\n",
       "  <tbody>\n",
       "    <tr>\n",
       "      <th>0</th>\n",
       "      <td>2013-10-01 12:00:00</td>\n",
       "      <td>-1.734</td>\n",
       "      <td>-1.870</td>\n",
       "    </tr>\n",
       "    <tr>\n",
       "      <th>1</th>\n",
       "      <td>2013-10-01 13:00:00</td>\n",
       "      <td>0.896</td>\n",
       "      <td>-1.789</td>\n",
       "    </tr>\n",
       "    <tr>\n",
       "      <th>2</th>\n",
       "      <td>2013-10-01 14:00:00</td>\n",
       "      <td>0.175</td>\n",
       "      <td>-1.761</td>\n",
       "    </tr>\n",
       "    <tr>\n",
       "      <th>3</th>\n",
       "      <td>2013-10-01 15:00:00</td>\n",
       "      <td>-0.327</td>\n",
       "      <td>-1.337</td>\n",
       "    </tr>\n",
       "    <tr>\n",
       "      <th>4</th>\n",
       "      <td>2013-10-01 16:00:00</td>\n",
       "      <td>-0.017</td>\n",
       "      <td>-0.216</td>\n",
       "    </tr>\n",
       "  </tbody>\n",
       "</table>\n",
       "</div>"
      ],
      "text/plain": [
       "               Period   Pmax   Pmin\n",
       "0 2013-10-01 12:00:00 -1.734 -1.870\n",
       "1 2013-10-01 13:00:00  0.896 -1.789\n",
       "2 2013-10-01 14:00:00  0.175 -1.761\n",
       "3 2013-10-01 15:00:00 -0.327 -1.337\n",
       "4 2013-10-01 16:00:00 -0.017 -0.216"
      ]
     },
     "execution_count": 5,
     "metadata": {},
     "output_type": "execute_result"
    }
   ],
   "source": [
    "df.head()"
   ]
  },
  {
   "cell_type": "code",
   "execution_count": 6,
   "metadata": {},
   "outputs": [
    {
     "data": {
      "text/html": [
       "<div>\n",
       "<style scoped>\n",
       "    .dataframe tbody tr th:only-of-type {\n",
       "        vertical-align: middle;\n",
       "    }\n",
       "\n",
       "    .dataframe tbody tr th {\n",
       "        vertical-align: top;\n",
       "    }\n",
       "\n",
       "    .dataframe thead th {\n",
       "        text-align: right;\n",
       "    }\n",
       "</style>\n",
       "<table border=\"1\" class=\"dataframe\">\n",
       "  <thead>\n",
       "    <tr style=\"text-align: right;\">\n",
       "      <th></th>\n",
       "      <th>Period</th>\n",
       "      <th>Pmax</th>\n",
       "      <th>Pmin</th>\n",
       "      <th>Solar_Rad</th>\n",
       "    </tr>\n",
       "  </thead>\n",
       "  <tbody>\n",
       "    <tr>\n",
       "      <th>0</th>\n",
       "      <td>2013-10-01 12:00:00</td>\n",
       "      <td>-1.734</td>\n",
       "      <td>-1.870</td>\n",
       "      <td>32.0</td>\n",
       "    </tr>\n",
       "    <tr>\n",
       "      <th>1</th>\n",
       "      <td>2013-10-01 12:00:00</td>\n",
       "      <td>0.113</td>\n",
       "      <td>-0.074</td>\n",
       "      <td>32.0</td>\n",
       "    </tr>\n",
       "    <tr>\n",
       "      <th>2</th>\n",
       "      <td>2013-10-01 12:00:00</td>\n",
       "      <td>0.016</td>\n",
       "      <td>-0.924</td>\n",
       "      <td>32.0</td>\n",
       "    </tr>\n",
       "    <tr>\n",
       "      <th>4</th>\n",
       "      <td>2013-10-01 13:00:00</td>\n",
       "      <td>0.896</td>\n",
       "      <td>-1.789</td>\n",
       "      <td>22.0</td>\n",
       "    </tr>\n",
       "    <tr>\n",
       "      <th>5</th>\n",
       "      <td>2013-10-01 13:00:00</td>\n",
       "      <td>-0.038</td>\n",
       "      <td>-0.233</td>\n",
       "      <td>22.0</td>\n",
       "    </tr>\n",
       "  </tbody>\n",
       "</table>\n",
       "</div>"
      ],
      "text/plain": [
       "               Period   Pmax   Pmin  Solar_Rad\n",
       "0 2013-10-01 12:00:00 -1.734 -1.870       32.0\n",
       "1 2013-10-01 12:00:00  0.113 -0.074       32.0\n",
       "2 2013-10-01 12:00:00  0.016 -0.924       32.0\n",
       "4 2013-10-01 13:00:00  0.896 -1.789       22.0\n",
       "5 2013-10-01 13:00:00 -0.038 -0.233       22.0"
      ]
     },
     "execution_count": 6,
     "metadata": {},
     "output_type": "execute_result"
    }
   ],
   "source": [
    "Data = pd.merge(df,df_,on=\"Period\")\n",
    "Data = Data.dropna()\n",
    "Data.head()"
   ]
  },
  {
   "cell_type": "code",
   "execution_count": 7,
   "metadata": {},
   "outputs": [
    {
     "data": {
      "text/plain": [
       "Period       2014-05-08 10:00:00\n",
       "Pmax                       0.269\n",
       "Pmin                       0.269\n",
       "Solar_Rad                    132\n",
       "Name: 50448, dtype: object"
      ]
     },
     "execution_count": 7,
     "metadata": {},
     "output_type": "execute_result"
    }
   ],
   "source": [
    "import numpy as np\n",
    "\n",
    "from bokeh.plotting import figure, output_file, show\n",
    "from bokeh.layouts import gridplot\n",
    "\n",
    "# prepare some data\n",
    "aapl = np.array(Data['Pmax'])\n",
    "solar =  np.array(Data['Solar_Rad'])\n",
    "\n",
    "aapl_dates = np.array(Data['Period'], dtype=np.datetime64)\n",
    "\n",
    "window_size = 24\n",
    "window = np.ones(window_size)/float(window_size)\n",
    "aapl_avg = np.convolve(aapl, window, 'same')\n",
    "window_size = 24\n",
    "window = np.ones(window_size)/float(window_size)\n",
    "solar_rad_avg = np.convolve(solar, window, 'same')\n",
    "\n",
    "\n",
    "\n",
    "# output to static HTML file\n",
    "output_file(\"P_max.html\", title=\"Pmax.py example\")\n",
    "\n",
    "# create a new plot with a a datetime axis type\n",
    "s1 = figure(plot_width=800, plot_height=350, x_axis_type=\"datetime\")\n",
    "\n",
    "# add renderers\n",
    "s1.circle(aapl_dates, aapl_avg , size=2, color='darkgrey', alpha=0.2, legend='close')\n",
    "\n",
    "s2 = figure(plot_width=800, plot_height=350, x_axis_type=\"datetime\")\n",
    "\n",
    "s2.circle(aapl_dates, solar_rad_avg , size=2, color='blue', alpha=0.2, legend='close')\n",
    "\n",
    "\n",
    "#p.line(aapl_dates, aapl , color='navy', legend='avg')\n",
    "\n",
    "\n",
    "\n",
    "# show the results\n",
    "p = gridplot([[s1, s2]])\n",
    "# NEW: customize by setting attributes\n",
    "s1.title.text = \"Pmax One day average\"\n",
    "s1.legend.location = \"top_left\"\n",
    "s1.grid.grid_line_alpha = 0\n",
    "s1.xaxis.axis_label = 'Date'\n",
    "s1.yaxis.axis_label = 'PaMax'\n",
    "s1.ygrid.band_fill_color = \"olive\"\n",
    "s1.ygrid.band_fill_alpha = 0.1\n",
    "\n",
    "s2.title.text = \"Solar radiation One day average\"\n",
    "s2.legend.location = \"top_left\"\n",
    "s2.grid.grid_line_alpha = 0\n",
    "s2.xaxis.axis_label = 'Date'\n",
    "s2.yaxis.axis_label = 'LW'\n",
    "s2.ygrid.band_fill_color = \"blue\"\n",
    "s2.ygrid.band_fill_alpha = 0.1\n",
    "\n",
    "\n",
    "# show the results\n",
    "show(p)\n",
    "aapl\n",
    "Data.head()\n",
    "Data.iloc[-1,:]"
   ]
  },
  {
   "cell_type": "code",
   "execution_count": null,
   "metadata": {},
   "outputs": [],
   "source": []
  }
 ],
 "metadata": {
  "kernelspec": {
   "display_name": "Python 3",
   "language": "python",
   "name": "python3"
  },
  "language_info": {
   "codemirror_mode": {
    "name": "ipython",
    "version": 3
   },
   "file_extension": ".py",
   "mimetype": "text/x-python",
   "name": "python",
   "nbconvert_exporter": "python",
   "pygments_lexer": "ipython3",
   "version": "3.6.5"
  }
 },
 "nbformat": 4,
 "nbformat_minor": 2
}
